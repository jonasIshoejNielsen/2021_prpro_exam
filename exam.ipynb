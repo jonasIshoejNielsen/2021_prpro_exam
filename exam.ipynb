{
 "cells": [
  {
   "cell_type": "code",
   "execution_count": 1,
   "metadata": {},
   "outputs": [],
   "source": [
    "import pymc3 as pm\n",
    "import numpy as np\n",
    "import pandas as pd\n",
    "import arviz as az\n",
    "import theano \n",
    "from scipy.stats import norm\n",
    "from matplotlib import pyplot as plt\n",
    "\n",
    "%matplotlib inline"
   ]
  },
  {
   "cell_type": "code",
   "execution_count": 2,
   "metadata": {},
   "outputs": [],
   "source": [
    "df = pd.read_csv('pseudonymized-data.csv')"
   ]
  },
  {
   "cell_type": "code",
   "execution_count": 3,
   "metadata": {},
   "outputs": [
    {
     "data": {
      "text/html": [
       "<div>\n",
       "<style scoped>\n",
       "    .dataframe tbody tr th:only-of-type {\n",
       "        vertical-align: middle;\n",
       "    }\n",
       "\n",
       "    .dataframe tbody tr th {\n",
       "        vertical-align: top;\n",
       "    }\n",
       "\n",
       "    .dataframe thead th {\n",
       "        text-align: right;\n",
       "    }\n",
       "</style>\n",
       "<table border=\"1\" class=\"dataframe\">\n",
       "  <thead>\n",
       "    <tr style=\"text-align: right;\">\n",
       "      <th></th>\n",
       "      <th>Unnamed: 0</th>\n",
       "      <th>Community</th>\n",
       "      <th>V27</th>\n",
       "      <th>V28</th>\n",
       "      <th>V29</th>\n",
       "      <th>V30</th>\n",
       "      <th>V31</th>\n",
       "      <th>V32</th>\n",
       "      <th>V33</th>\n",
       "    </tr>\n",
       "  </thead>\n",
       "  <tbody>\n",
       "    <tr>\n",
       "      <th>0</th>\n",
       "      <td>0</td>\n",
       "      <td>Comm.FOSSASIA</td>\n",
       "      <td>4</td>\n",
       "      <td>4</td>\n",
       "      <td>4</td>\n",
       "      <td>5</td>\n",
       "      <td>1</td>\n",
       "      <td>1</td>\n",
       "      <td>1</td>\n",
       "    </tr>\n",
       "    <tr>\n",
       "      <th>1</th>\n",
       "      <td>1</td>\n",
       "      <td>Comm.FOSSASIA</td>\n",
       "      <td>5</td>\n",
       "      <td>5</td>\n",
       "      <td>5</td>\n",
       "      <td>5</td>\n",
       "      <td>1</td>\n",
       "      <td>1</td>\n",
       "      <td>1</td>\n",
       "    </tr>\n",
       "    <tr>\n",
       "      <th>2</th>\n",
       "      <td>2</td>\n",
       "      <td>Comm.FOSSASIA</td>\n",
       "      <td>-1</td>\n",
       "      <td>-1</td>\n",
       "      <td>-1</td>\n",
       "      <td>-1</td>\n",
       "      <td>-1</td>\n",
       "      <td>-1</td>\n",
       "      <td>-1</td>\n",
       "    </tr>\n",
       "    <tr>\n",
       "      <th>3</th>\n",
       "      <td>3</td>\n",
       "      <td>Comm.FOSSASIA</td>\n",
       "      <td>-1</td>\n",
       "      <td>-1</td>\n",
       "      <td>-1</td>\n",
       "      <td>-1</td>\n",
       "      <td>-1</td>\n",
       "      <td>-1</td>\n",
       "      <td>-1</td>\n",
       "    </tr>\n",
       "    <tr>\n",
       "      <th>4</th>\n",
       "      <td>4</td>\n",
       "      <td>Comm.FOSSASIA</td>\n",
       "      <td>-1</td>\n",
       "      <td>-1</td>\n",
       "      <td>-1</td>\n",
       "      <td>-1</td>\n",
       "      <td>-1</td>\n",
       "      <td>-1</td>\n",
       "      <td>-1</td>\n",
       "    </tr>\n",
       "  </tbody>\n",
       "</table>\n",
       "</div>"
      ],
      "text/plain": [
       "   Unnamed: 0      Community  V27  V28  V29  V30  V31  V32  V33\n",
       "0           0  Comm.FOSSASIA    4    4    4    5    1    1    1\n",
       "1           1  Comm.FOSSASIA    5    5    5    5    1    1    1\n",
       "2           2  Comm.FOSSASIA   -1   -1   -1   -1   -1   -1   -1\n",
       "3           3  Comm.FOSSASIA   -1   -1   -1   -1   -1   -1   -1\n",
       "4           4  Comm.FOSSASIA   -1   -1   -1   -1   -1   -1   -1"
      ]
     },
     "execution_count": 3,
     "metadata": {},
     "output_type": "execute_result"
    }
   ],
   "source": [
    "df.head()"
   ]
  },
  {
   "cell_type": "code",
   "execution_count": 4,
   "metadata": {},
   "outputs": [
    {
     "data": {
      "text/html": [
       "<div>\n",
       "<style scoped>\n",
       "    .dataframe tbody tr th:only-of-type {\n",
       "        vertical-align: middle;\n",
       "    }\n",
       "\n",
       "    .dataframe tbody tr th {\n",
       "        vertical-align: top;\n",
       "    }\n",
       "\n",
       "    .dataframe thead th {\n",
       "        text-align: right;\n",
       "    }\n",
       "</style>\n",
       "<table border=\"1\" class=\"dataframe\">\n",
       "  <thead>\n",
       "    <tr style=\"text-align: right;\">\n",
       "      <th></th>\n",
       "      <th>id</th>\n",
       "      <th>Community</th>\n",
       "      <th>V27</th>\n",
       "      <th>V28</th>\n",
       "      <th>V29</th>\n",
       "      <th>V30</th>\n",
       "      <th>V31</th>\n",
       "      <th>V32</th>\n",
       "      <th>V33</th>\n",
       "    </tr>\n",
       "  </thead>\n",
       "  <tbody>\n",
       "    <tr>\n",
       "      <th>0</th>\n",
       "      <td>0</td>\n",
       "      <td>Comm.FOSSASIA</td>\n",
       "      <td>4</td>\n",
       "      <td>4</td>\n",
       "      <td>4</td>\n",
       "      <td>5</td>\n",
       "      <td>1</td>\n",
       "      <td>1</td>\n",
       "      <td>1</td>\n",
       "    </tr>\n",
       "    <tr>\n",
       "      <th>1</th>\n",
       "      <td>1</td>\n",
       "      <td>Comm.FOSSASIA</td>\n",
       "      <td>5</td>\n",
       "      <td>5</td>\n",
       "      <td>5</td>\n",
       "      <td>5</td>\n",
       "      <td>1</td>\n",
       "      <td>1</td>\n",
       "      <td>1</td>\n",
       "    </tr>\n",
       "    <tr>\n",
       "      <th>2</th>\n",
       "      <td>2</td>\n",
       "      <td>Comm.FOSSASIA</td>\n",
       "      <td>-1</td>\n",
       "      <td>-1</td>\n",
       "      <td>-1</td>\n",
       "      <td>-1</td>\n",
       "      <td>-1</td>\n",
       "      <td>-1</td>\n",
       "      <td>-1</td>\n",
       "    </tr>\n",
       "    <tr>\n",
       "      <th>3</th>\n",
       "      <td>3</td>\n",
       "      <td>Comm.FOSSASIA</td>\n",
       "      <td>-1</td>\n",
       "      <td>-1</td>\n",
       "      <td>-1</td>\n",
       "      <td>-1</td>\n",
       "      <td>-1</td>\n",
       "      <td>-1</td>\n",
       "      <td>-1</td>\n",
       "    </tr>\n",
       "    <tr>\n",
       "      <th>4</th>\n",
       "      <td>4</td>\n",
       "      <td>Comm.FOSSASIA</td>\n",
       "      <td>-1</td>\n",
       "      <td>-1</td>\n",
       "      <td>-1</td>\n",
       "      <td>-1</td>\n",
       "      <td>-1</td>\n",
       "      <td>-1</td>\n",
       "      <td>-1</td>\n",
       "    </tr>\n",
       "  </tbody>\n",
       "</table>\n",
       "</div>"
      ],
      "text/plain": [
       "   id      Community  V27  V28  V29  V30  V31  V32  V33\n",
       "0   0  Comm.FOSSASIA    4    4    4    5    1    1    1\n",
       "1   1  Comm.FOSSASIA    5    5    5    5    1    1    1\n",
       "2   2  Comm.FOSSASIA   -1   -1   -1   -1   -1   -1   -1\n",
       "3   3  Comm.FOSSASIA   -1   -1   -1   -1   -1   -1   -1\n",
       "4   4  Comm.FOSSASIA   -1   -1   -1   -1   -1   -1   -1"
      ]
     },
     "execution_count": 4,
     "metadata": {},
     "output_type": "execute_result"
    }
   ],
   "source": [
    "df = df.rename(columns={df.columns[0]: 'id'})\n",
    "df.head()"
   ]
  },
  {
   "cell_type": "markdown",
   "metadata": {},
   "source": [
    "Clean data\n",
    "- community -1\n",
    "- all qns -1\n",
    "- some qns -1\n"
   ]
  },
  {
   "cell_type": "code",
   "execution_count": 5,
   "metadata": {},
   "outputs": [],
   "source": [
    "df = df[df[\"Community\"] != \"-1\"]"
   ]
  },
  {
   "cell_type": "code",
   "execution_count": null,
   "metadata": {},
   "outputs": [],
   "source": []
  },
  {
   "cell_type": "code",
   "execution_count": 6,
   "metadata": {},
   "outputs": [
    {
     "data": {
      "text/html": [
       "<div>\n",
       "<style scoped>\n",
       "    .dataframe tbody tr th:only-of-type {\n",
       "        vertical-align: middle;\n",
       "    }\n",
       "\n",
       "    .dataframe tbody tr th {\n",
       "        vertical-align: top;\n",
       "    }\n",
       "\n",
       "    .dataframe thead th {\n",
       "        text-align: right;\n",
       "    }\n",
       "</style>\n",
       "<table border=\"1\" class=\"dataframe\">\n",
       "  <thead>\n",
       "    <tr style=\"text-align: right;\">\n",
       "      <th></th>\n",
       "      <th>V27</th>\n",
       "      <th>V28</th>\n",
       "      <th>V29</th>\n",
       "      <th>V30</th>\n",
       "      <th>V31</th>\n",
       "      <th>V32</th>\n",
       "      <th>V33</th>\n",
       "    </tr>\n",
       "  </thead>\n",
       "  <tbody>\n",
       "    <tr>\n",
       "      <th>count</th>\n",
       "      <td>345.000000</td>\n",
       "      <td>345.000000</td>\n",
       "      <td>345.000000</td>\n",
       "      <td>345.000000</td>\n",
       "      <td>345.000000</td>\n",
       "      <td>345.000000</td>\n",
       "      <td>345.000000</td>\n",
       "    </tr>\n",
       "    <tr>\n",
       "      <th>mean</th>\n",
       "      <td>1.492754</td>\n",
       "      <td>1.533333</td>\n",
       "      <td>1.440580</td>\n",
       "      <td>1.623188</td>\n",
       "      <td>0.504348</td>\n",
       "      <td>0.344928</td>\n",
       "      <td>0.678261</td>\n",
       "    </tr>\n",
       "    <tr>\n",
       "      <th>std</th>\n",
       "      <td>2.648075</td>\n",
       "      <td>2.682776</td>\n",
       "      <td>2.605357</td>\n",
       "      <td>2.763453</td>\n",
       "      <td>1.689781</td>\n",
       "      <td>1.542003</td>\n",
       "      <td>1.864047</td>\n",
       "    </tr>\n",
       "    <tr>\n",
       "      <th>min</th>\n",
       "      <td>-1.000000</td>\n",
       "      <td>-1.000000</td>\n",
       "      <td>-1.000000</td>\n",
       "      <td>-1.000000</td>\n",
       "      <td>-1.000000</td>\n",
       "      <td>-1.000000</td>\n",
       "      <td>-1.000000</td>\n",
       "    </tr>\n",
       "    <tr>\n",
       "      <th>25%</th>\n",
       "      <td>-1.000000</td>\n",
       "      <td>-1.000000</td>\n",
       "      <td>-1.000000</td>\n",
       "      <td>-1.000000</td>\n",
       "      <td>-1.000000</td>\n",
       "      <td>-1.000000</td>\n",
       "      <td>-1.000000</td>\n",
       "    </tr>\n",
       "    <tr>\n",
       "      <th>50%</th>\n",
       "      <td>-1.000000</td>\n",
       "      <td>-1.000000</td>\n",
       "      <td>-1.000000</td>\n",
       "      <td>-1.000000</td>\n",
       "      <td>-1.000000</td>\n",
       "      <td>-1.000000</td>\n",
       "      <td>-1.000000</td>\n",
       "    </tr>\n",
       "    <tr>\n",
       "      <th>75%</th>\n",
       "      <td>4.000000</td>\n",
       "      <td>4.000000</td>\n",
       "      <td>4.000000</td>\n",
       "      <td>5.000000</td>\n",
       "      <td>2.000000</td>\n",
       "      <td>1.000000</td>\n",
       "      <td>2.000000</td>\n",
       "    </tr>\n",
       "    <tr>\n",
       "      <th>max</th>\n",
       "      <td>5.000000</td>\n",
       "      <td>5.000000</td>\n",
       "      <td>5.000000</td>\n",
       "      <td>5.000000</td>\n",
       "      <td>5.000000</td>\n",
       "      <td>5.000000</td>\n",
       "      <td>5.000000</td>\n",
       "    </tr>\n",
       "  </tbody>\n",
       "</table>\n",
       "</div>"
      ],
      "text/plain": [
       "              V27         V28         V29         V30         V31         V32  \\\n",
       "count  345.000000  345.000000  345.000000  345.000000  345.000000  345.000000   \n",
       "mean     1.492754    1.533333    1.440580    1.623188    0.504348    0.344928   \n",
       "std      2.648075    2.682776    2.605357    2.763453    1.689781    1.542003   \n",
       "min     -1.000000   -1.000000   -1.000000   -1.000000   -1.000000   -1.000000   \n",
       "25%     -1.000000   -1.000000   -1.000000   -1.000000   -1.000000   -1.000000   \n",
       "50%     -1.000000   -1.000000   -1.000000   -1.000000   -1.000000   -1.000000   \n",
       "75%      4.000000    4.000000    4.000000    5.000000    2.000000    1.000000   \n",
       "max      5.000000    5.000000    5.000000    5.000000    5.000000    5.000000   \n",
       "\n",
       "              V33  \n",
       "count  345.000000  \n",
       "mean     0.678261  \n",
       "std      1.864047  \n",
       "min     -1.000000  \n",
       "25%     -1.000000  \n",
       "50%     -1.000000  \n",
       "75%      2.000000  \n",
       "max      5.000000  "
      ]
     },
     "execution_count": 6,
     "metadata": {},
     "output_type": "execute_result"
    }
   ],
   "source": [
    "df.iloc[:,1:].describe()"
   ]
  },
  {
   "cell_type": "code",
   "execution_count": 7,
   "metadata": {},
   "outputs": [
    {
     "name": "stdout",
     "output_type": "stream",
     "text": [
      "13\n",
      "['Comm.FOSSASIA' 'Comm.ROS' 'Comm.Coala' 'Comm.Mozilla'\n",
      " 'Comm.Linux_Kernel' 'Comm.OpenGenus' 'Comm.ReactJS' 'Comm.Plone'\n",
      " 'Comm.Odoo' 'Comm.NodeJS' 'Comm.Apache' 'Comm.jQuery' 'Comm.OpenSUSE']\n"
     ]
    }
   ],
   "source": [
    "communities = df.Community.unique()\n",
    "\n",
    "print(len(communities))\n",
    "print(communities)"
   ]
  },
  {
   "cell_type": "code",
   "execution_count": 8,
   "metadata": {},
   "outputs": [
    {
     "data": {
      "image/png": "[encoded data removed]",
      "text/plain": [
       "<Figure size 1440x1080 with 9 Axes>"
      ]
     },
     "metadata": {
      "needs_background": "light"
     },
     "output_type": "display_data"
    }
   ],
   "source": [
    "df.hist(column=df.columns[1:], bins=50, figsize=(20,15))\n",
    "plt.show()"
   ]
  },
  {
   "cell_type": "code",
   "execution_count": 9,
   "metadata": {},
   "outputs": [
    {
     "data": {
      "text/plain": [
       "0      4\n",
       "1      5\n",
       "2     -1\n",
       "3     -1\n",
       "4     -1\n",
       "      ..\n",
       "221   -1\n",
       "223   -1\n",
       "247    3\n",
       "336   -1\n",
       "366   -1\n",
       "Name: V27, Length: 68, dtype: int64"
      ]
     },
     "execution_count": 9,
     "metadata": {},
     "output_type": "execute_result"
    }
   ],
   "source": [
    "df[df.Community == 'Comm.FOSSASIA'].V27"
   ]
  },
  {
   "cell_type": "code",
   "execution_count": 10,
   "metadata": {},
   "outputs": [],
   "source": [
    "# V27 = df[df.Community == 'Comm.FOSSASIA'].V27.to_numpy()\n",
    "def removeNoAnswer(lst):\n",
    "    return [int (i <= 3) for i in lst if i!=-1]\n",
    "#    return lst[np.where(lst != -1)]\n",
    "\n",
    "V27 = [removeNoAnswer(df[df.Community == community].V27.to_numpy()) for community in communities]\n",
    "V28 = [removeNoAnswer(df[df.Community == community].V28.to_numpy())  for community in communities]\n",
    "V29 = [removeNoAnswer(df[df.Community == community].V29.to_numpy())  for community in communities]\n",
    "V30 = [removeNoAnswer(df[df.Community == community].V30.to_numpy())  for community in communities]\n",
    "V31 = [removeNoAnswer(df[df.Community == community].V31.to_numpy())  for community in communities]\n",
    "V32 = [removeNoAnswer(df[df.Community == community].V32.to_numpy())  for community in communities]\n",
    "V33 = [removeNoAnswer(df[df.Community == community].V33.to_numpy())  for community in communities]\n",
    "answers = [V27, V28, V29, V30, V31, V32, V33]"
   ]
  },
  {
   "cell_type": "code",
   "execution_count": 11,
   "metadata": {},
   "outputs": [],
   "source": [
    "N = [len(V27), len(V28), len(V29), len(V30), len(V31), len(V32), len(V33)]\n",
    "μ = [[np.mean(v) for v in V27], [np.mean(v) for v in V28], [np.mean(v) for v in V29],\n",
    "     [np.mean(v) for v in V30], [np.mean(v) for v in V31], [np.mean(v) for v in V32], [np.mean(v) for v in V33]]\n",
    "σ = [[np.std(v) for v in V27], [np.std(v) for v in V28], [np.std(v) for v in V29],\n",
    "     [np.std(v) for v in V30], [np.std(v) for v in V31], [np.std(v) for v in V32], [np.std(v) for v in V33]]\n",
    "\n",
    "# def standardize(data, m, sd):\n",
    "#     return (data-m)/sd\n",
    "# all_z = []\n",
    "# for i in range(len(answers)):\n",
    "#     lst=[]\n",
    "#     for com in range(len(answers[i])):\n",
    "#         z=standardize(answers[i][com], μ[i][com], σ[i][com])\n",
    "#         lst.append(z)\n",
    "#     all_z.append(lst)\n"
   ]
  },
  {
   "cell_type": "code",
   "execution_count": 12,
   "metadata": {},
   "outputs": [
    {
     "name": "stderr",
     "output_type": "stream",
     "text": [
      "<ipython-input-12-643bf9b24e26>:1: VisibleDeprecationWarning: Creating an ndarray from ragged nested sequences (which is a list-or-tuple of lists-or-tuples-or ndarrays with different lengths or shapes) is deprecated. If you meant to do this, you must specify 'dtype=object' when creating the ndarray\n",
      "  np.array(answers).shape\n"
     ]
    },
    {
     "data": {
      "text/plain": [
       "(7, 13)"
      ]
     },
     "execution_count": 12,
     "metadata": {},
     "output_type": "execute_result"
    }
   ],
   "source": [
    "np.array(answers).shape"
   ]
  },
  {
   "cell_type": "code",
   "execution_count": 13,
   "metadata": {},
   "outputs": [
    {
     "name": "stdout",
     "output_type": "stream",
     "text": [
      "[1, 1, 1, 1, 1, 1, 1] [1, 0, 0, 1, 1, 1, 1, 1, 1, 1, 1, 0, 1, 0, 1, 1, 1, 0]\n",
      "μ:  1.0 0.7222222222222222\n",
      "σ:  0.0 0.4479032082388083\n"
     ]
    }
   ],
   "source": [
    "coalaIndex=np.where(communities==\"Comm.Coala\")[0][0]\n",
    "linuxIndex=np.where(communities==\"Comm.Linux_Kernel\")[0][0]\n",
    "z_coala=answers[6][coalaIndex]\n",
    "z_linux=answers[6][linuxIndex]\n",
    "\n",
    "μ_coala=μ[6][coalaIndex]\n",
    "μ_linux=μ[6][linuxIndex]\n",
    "\n",
    "σ_coala=σ[6][coalaIndex]\n",
    "σ_linux=σ[6][linuxIndex]\n",
    "\n",
    "print(z_coala,z_linux)\n",
    "print(\"μ: \",μ_coala,μ_linux)\n",
    "print(\"σ: \",σ_coala,σ_linux)"
   ]
  },
  {
   "cell_type": "code",
   "execution_count": 20,
   "metadata": {},
   "outputs": [],
   "source": [
    "# put the model code \n",
    "with pm.Model() as model_h1:\n",
    "    μ_noData = pm.Normal('μ_noData', mu=1, sigma=100*1, shape=1)\n",
    "    μ        = pm.Deterministic('μ', μ_noData*μ_coala)\n",
    "    σ_noData = pm.Uniform('σ_noData', lower=1/1000, upper=1*1000, shape=1)\n",
    "    σ        = pm.Deterministic('σ', σ_noData*σ_coala)\n",
    "    ν_minus_one = pm.Exponential('ν_minus_one', lam=1/29)\n",
    "    ν = pm.Deterministic('ν', ν_minus_one+1)\n",
    "    \n",
    "    # for plotting/comparison purposes\n",
    "    log10_ν = pm.Deterministic('log10_ν',np.log10(ν))\n",
    "    eff_size = pm.Deterministic('eff_size',(μ-100)/σ)\n",
    "\n",
    "    #likelihood\n",
    "    obs_coala   = pm.StudentT('obs_coala',  nu=ν,mu=μ,sd=σ,observed=z_coala)\n",
    "    #dif = pm.Deterministic('dif',abs(obs_coala-obs_linux))"
   ]
  },
  {
   "cell_type": "code",
   "execution_count": 15,
   "metadata": {},
   "outputs": [
    {
     "data": {
      "image/svg+xml": [
       "<?xml version=\"1.0\" encoding=\"UTF-8\" standalone=\"no\"?>\r\n",
       "<!DOCTYPE svg PUBLIC \"-//W3C//DTD SVG 1.1//EN\"\r\n",
       " \"http://www.w3.org/Graphics/SVG/1.1/DTD/svg11.dtd\">\r\n",
       "<!-- Generated by graphviz version 2.38.0 (20140413.2041)\r\n",
       " -->\r\n",
       "<!-- Title: %3 Pages: 1 -->\r\n",
       "<svg width=\"607pt\" height=\"227pt\"\r\n",
       " viewBox=\"0.00 0.00 606.98 227.00\" xmlns=\"http://www.w3.org/2000/svg\" xmlns:xlink=\"http://www.w3.org/1999/xlink\">\r\n",
       "<g id=\"graph0\" class=\"graph\" transform=\"scale(1 1) rotate(0) translate(4 223)\">\r\n",
       "<title>%3</title>\r\n",
       "<polygon fill=\"white\" stroke=\"none\" points=\"-4,4 -4,-223 602.983,-223 602.983,4 -4,4\"/>\r\n",
       "<g id=\"clust1\" class=\"cluster\"><title>cluster7</title>\r\n",
       "<path fill=\"none\" stroke=\"black\" d=\"M191.193,-8C191.193,-8 367.193,-8 367.193,-8 373.193,-8 379.193,-14 379.193,-20 379.193,-20 379.193,-71 379.193,-71 379.193,-77 373.193,-83 367.193,-83 367.193,-83 191.193,-83 191.193,-83 185.193,-83 179.193,-77 179.193,-71 179.193,-71 179.193,-20 179.193,-20 179.193,-14 185.193,-8 191.193,-8\"/>\r\n",
       "<text text-anchor=\"middle\" x=\"367.693\" y=\"-15.8\" font-family=\"Times New Roman,serif\" font-size=\"14.00\">7</text>\r\n",
       "</g>\r\n",
       "<!-- σ -->\r\n",
       "<g id=\"node1\" class=\"node\"><title>σ</title>\r\n",
       "<polygon fill=\"none\" stroke=\"black\" points=\"327.193,-147 215.193,-147 215.193,-111 327.193,-111 327.193,-147\"/>\r\n",
       "<text text-anchor=\"middle\" x=\"271.193\" y=\"-125.3\" font-family=\"Times New Roman,serif\" font-size=\"14.00\">σ ~ Deterministic</text>\r\n",
       "</g>\r\n",
       "<!-- eff_size -->\r\n",
       "<g id=\"node8\" class=\"node\"><title>eff_size</title>\r\n",
       "<polygon fill=\"none\" stroke=\"black\" points=\"169.193,-75 21.1926,-75 21.1926,-39 169.193,-39 169.193,-75\"/>\r\n",
       "<text text-anchor=\"middle\" x=\"95.1926\" y=\"-53.3\" font-family=\"Times New Roman,serif\" font-size=\"14.00\">eff_size ~ Deterministic</text>\r\n",
       "</g>\r\n",
       "<!-- σ&#45;&gt;eff_size -->\r\n",
       "<g id=\"edge5\" class=\"edge\"><title>σ&#45;&gt;eff_size</title>\r\n",
       "<path fill=\"none\" stroke=\"black\" d=\"M228.138,-110.876C203.864,-101.222 173.353,-89.0865 147.685,-78.8775\"/>\r\n",
       "<polygon fill=\"black\" stroke=\"black\" points=\"148.693,-75.5119 138.107,-75.0683 146.106,-82.0163 148.693,-75.5119\"/>\r\n",
       "</g>\r\n",
       "<!-- obs_coala -->\r\n",
       "<g id=\"node9\" class=\"node\"><title>obs_coala</title>\r\n",
       "<ellipse fill=\"lightgrey\" stroke=\"black\" cx=\"279.193\" cy=\"-57\" rx=\"91.784\" ry=\"18\"/>\r\n",
       "<text text-anchor=\"middle\" x=\"279.193\" y=\"-53.3\" font-family=\"Times New Roman,serif\" font-size=\"14.00\">obs_coala ~ StudentT</text>\r\n",
       "</g>\r\n",
       "<!-- σ&#45;&gt;obs_coala -->\r\n",
       "<g id=\"edge8\" class=\"edge\"><title>σ&#45;&gt;obs_coala</title>\r\n",
       "<path fill=\"none\" stroke=\"black\" d=\"M273.17,-110.697C274.052,-102.983 275.111,-93.7125 276.094,-85.1124\"/>\r\n",
       "<polygon fill=\"black\" stroke=\"black\" points=\"279.58,-85.4371 277.238,-75.1043 272.625,-84.6422 279.58,-85.4371\"/>\r\n",
       "</g>\r\n",
       "<!-- log10_ν -->\r\n",
       "<g id=\"node2\" class=\"node\"><title>log10_ν</title>\r\n",
       "<polygon fill=\"none\" stroke=\"black\" points=\"553.693,-75 404.693,-75 404.693,-39 553.693,-39 553.693,-75\"/>\r\n",
       "<text text-anchor=\"middle\" x=\"479.193\" y=\"-53.3\" font-family=\"Times New Roman,serif\" font-size=\"14.00\">log10_ν ~ Deterministic</text>\r\n",
       "</g>\r\n",
       "<!-- μ -->\r\n",
       "<g id=\"node3\" class=\"node\"><title>μ</title>\r\n",
       "<polygon fill=\"none\" stroke=\"black\" points=\"151.193,-147 39.1926,-147 39.1926,-111 151.193,-111 151.193,-147\"/>\r\n",
       "<text text-anchor=\"middle\" x=\"95.1926\" y=\"-125.3\" font-family=\"Times New Roman,serif\" font-size=\"14.00\">μ ~ Deterministic</text>\r\n",
       "</g>\r\n",
       "<!-- μ&#45;&gt;eff_size -->\r\n",
       "<g id=\"edge6\" class=\"edge\"><title>μ&#45;&gt;eff_size</title>\r\n",
       "<path fill=\"none\" stroke=\"black\" d=\"M95.1926,-110.697C95.1926,-102.983 95.1926,-93.7125 95.1926,-85.1124\"/>\r\n",
       "<polygon fill=\"black\" stroke=\"black\" points=\"98.6927,-85.1043 95.1926,-75.1043 91.6927,-85.1044 98.6927,-85.1043\"/>\r\n",
       "</g>\r\n",
       "<!-- μ&#45;&gt;obs_coala -->\r\n",
       "<g id=\"edge7\" class=\"edge\"><title>μ&#45;&gt;obs_coala</title>\r\n",
       "<path fill=\"none\" stroke=\"black\" d=\"M140.204,-110.876C167.233,-100.593 201.658,-87.4969 229.485,-76.9105\"/>\r\n",
       "<polygon fill=\"black\" stroke=\"black\" points=\"230.928,-80.1064 239.03,-73.2793 228.439,-73.5639 230.928,-80.1064\"/>\r\n",
       "</g>\r\n",
       "<!-- ν_minus_one -->\r\n",
       "<g id=\"node4\" class=\"node\"><title>ν_minus_one</title>\r\n",
       "<ellipse fill=\"none\" stroke=\"black\" cx=\"487.193\" cy=\"-201\" rx=\"111.581\" ry=\"18\"/>\r\n",
       "<text text-anchor=\"middle\" x=\"487.193\" y=\"-197.3\" font-family=\"Times New Roman,serif\" font-size=\"14.00\">ν_minus_one ~ Exponential</text>\r\n",
       "</g>\r\n",
       "<!-- ν -->\r\n",
       "<g id=\"node7\" class=\"node\"><title>ν</title>\r\n",
       "<polygon fill=\"none\" stroke=\"black\" points=\"534.693,-147 423.693,-147 423.693,-111 534.693,-111 534.693,-147\"/>\r\n",
       "<text text-anchor=\"middle\" x=\"479.193\" y=\"-125.3\" font-family=\"Times New Roman,serif\" font-size=\"14.00\">ν ~ Deterministic</text>\r\n",
       "</g>\r\n",
       "<!-- ν_minus_one&#45;&gt;ν -->\r\n",
       "<g id=\"edge3\" class=\"edge\"><title>ν_minus_one&#45;&gt;ν</title>\r\n",
       "<path fill=\"none\" stroke=\"black\" d=\"M485.215,-182.697C484.333,-174.983 483.274,-165.712 482.291,-157.112\"/>\r\n",
       "<polygon fill=\"black\" stroke=\"black\" points=\"485.76,-156.642 481.147,-147.104 478.806,-157.437 485.76,-156.642\"/>\r\n",
       "</g>\r\n",
       "<!-- σ_noData -->\r\n",
       "<g id=\"node5\" class=\"node\"><title>σ_noData</title>\r\n",
       "<ellipse fill=\"none\" stroke=\"black\" cx=\"271.193\" cy=\"-201\" rx=\"86.3847\" ry=\"18\"/>\r\n",
       "<text text-anchor=\"middle\" x=\"271.193\" y=\"-197.3\" font-family=\"Times New Roman,serif\" font-size=\"14.00\">σ_noData ~ Uniform</text>\r\n",
       "</g>\r\n",
       "<!-- σ_noData&#45;&gt;σ -->\r\n",
       "<g id=\"edge2\" class=\"edge\"><title>σ_noData&#45;&gt;σ</title>\r\n",
       "<path fill=\"none\" stroke=\"black\" d=\"M271.193,-182.697C271.193,-174.983 271.193,-165.712 271.193,-157.112\"/>\r\n",
       "<polygon fill=\"black\" stroke=\"black\" points=\"274.693,-157.104 271.193,-147.104 267.693,-157.104 274.693,-157.104\"/>\r\n",
       "</g>\r\n",
       "<!-- μ_noData -->\r\n",
       "<g id=\"node6\" class=\"node\"><title>μ_noData</title>\r\n",
       "<ellipse fill=\"none\" stroke=\"black\" cx=\"83.1926\" cy=\"-201\" rx=\"83.3857\" ry=\"18\"/>\r\n",
       "<text text-anchor=\"middle\" x=\"83.1926\" y=\"-197.3\" font-family=\"Times New Roman,serif\" font-size=\"14.00\">μ_noData ~ Normal</text>\r\n",
       "</g>\r\n",
       "<!-- μ_noData&#45;&gt;μ -->\r\n",
       "<g id=\"edge1\" class=\"edge\"><title>μ_noData&#45;&gt;μ</title>\r\n",
       "<path fill=\"none\" stroke=\"black\" d=\"M86.1589,-182.697C87.4813,-174.983 89.0705,-165.712 90.5448,-157.112\"/>\r\n",
       "<polygon fill=\"black\" stroke=\"black\" points=\"94.0204,-157.552 92.2604,-147.104 87.121,-156.369 94.0204,-157.552\"/>\r\n",
       "</g>\r\n",
       "<!-- ν&#45;&gt;log10_ν -->\r\n",
       "<g id=\"edge4\" class=\"edge\"><title>ν&#45;&gt;log10_ν</title>\r\n",
       "<path fill=\"none\" stroke=\"black\" d=\"M479.193,-110.697C479.193,-102.983 479.193,-93.7125 479.193,-85.1124\"/>\r\n",
       "<polygon fill=\"black\" stroke=\"black\" points=\"482.693,-85.1043 479.193,-75.1043 475.693,-85.1044 482.693,-85.1043\"/>\r\n",
       "</g>\r\n",
       "<!-- ν&#45;&gt;obs_coala -->\r\n",
       "<g id=\"edge9\" class=\"edge\"><title>ν&#45;&gt;obs_coala</title>\r\n",
       "<path fill=\"none\" stroke=\"black\" d=\"M430.523,-110.966C400.579,-100.485 362.21,-87.0562 331.6,-76.3427\"/>\r\n",
       "<polygon fill=\"black\" stroke=\"black\" points=\"332.55,-72.967 321.955,-72.9669 330.238,-79.574 332.55,-72.967\"/>\r\n",
       "</g>\r\n",
       "</g>\r\n",
       "</svg>\r\n"
      ],
      "text/plain": [
       "<graphviz.dot.Digraph at 0x1539a0df070>"
      ]
     },
     "execution_count": 15,
     "metadata": {},
     "output_type": "execute_result"
    }
   ],
   "source": [
    "pm.model_to_graphviz(model_h1)"
   ]
  },
  {
   "cell_type": "code",
   "execution_count": 28,
   "metadata": {},
   "outputs": [
    {
     "name": "stderr",
     "output_type": "stream",
     "text": [
      "Sequential sampling (4 chains in 1 job)\n",
      "NUTS: [ν_minus_one, σ_noData, μ_noData]\n",
      "Sampling chain 0, 0 divergences:   0%|                                                       | 0/10500 [00:00<?, ?it/s]\n"
     ]
    },
    {
     "ename": "SamplingError",
     "evalue": "Bad initial energy",
     "output_type": "error",
     "traceback": [
      "\u001b[1;31m---------------------------------------------------------------------------\u001b[0m",
      "\u001b[1;31mSamplingError\u001b[0m                             Traceback (most recent call last)",
      "\u001b[1;32m<ipython-input-28-fadc276e73d1>\u001b[0m in \u001b[0;36m<module>\u001b[1;34m\u001b[0m\n\u001b[0;32m      1\u001b[0m \u001b[1;31m# sampling: uncomment\u001b[0m\u001b[1;33m\u001b[0m\u001b[1;33m\u001b[0m\u001b[1;33m\u001b[0m\u001b[0m\n\u001b[0;32m      2\u001b[0m \u001b[1;32mwith\u001b[0m \u001b[0mmodel_h1\u001b[0m\u001b[1;33m:\u001b[0m\u001b[1;33m\u001b[0m\u001b[1;33m\u001b[0m\u001b[0m\n\u001b[1;32m----> 3\u001b[1;33m     \u001b[0mtrace_h1\u001b[0m\u001b[1;33m=\u001b[0m\u001b[0mpm\u001b[0m\u001b[1;33m.\u001b[0m\u001b[0msample\u001b[0m\u001b[1;33m(\u001b[0m\u001b[1;36m10000\u001b[0m\u001b[1;33m,\u001b[0m\u001b[0mchains\u001b[0m\u001b[1;33m=\u001b[0m\u001b[1;36m4\u001b[0m\u001b[1;33m,\u001b[0m \u001b[0mmodel\u001b[0m\u001b[1;33m=\u001b[0m\u001b[0mmodel_h1\u001b[0m\u001b[1;33m,\u001b[0m \u001b[0mcores\u001b[0m\u001b[1;33m=\u001b[0m\u001b[1;36m1\u001b[0m\u001b[1;33m,\u001b[0m \u001b[0mstep\u001b[0m\u001b[1;33m=\u001b[0m\u001b[0mpm\u001b[0m\u001b[1;33m.\u001b[0m\u001b[0mNUTS\u001b[0m\u001b[1;33m(\u001b[0m\u001b[1;33m)\u001b[0m\u001b[1;33m)\u001b[0m\u001b[1;33m\u001b[0m\u001b[1;33m\u001b[0m\u001b[0m\n\u001b[0m\u001b[0;32m      4\u001b[0m     \u001b[1;31m# storing trace, since I am not waiting that long again\u001b[0m\u001b[1;33m\u001b[0m\u001b[1;33m\u001b[0m\u001b[1;33m\u001b[0m\u001b[0m\n\u001b[0;32m      5\u001b[0m     \u001b[0mfolderName\u001b[0m \u001b[1;33m=\u001b[0m\u001b[1;34m\"h1.trace\"\u001b[0m\u001b[1;33m\u001b[0m\u001b[1;33m\u001b[0m\u001b[0m\n",
      "\u001b[1;32m~\\miniconda3\\lib\\site-packages\\pymc3\\sampling.py\u001b[0m in \u001b[0;36msample\u001b[1;34m(draws, step, init, n_init, start, trace, chain_idx, chains, cores, tune, progressbar, model, random_seed, discard_tuned_samples, compute_convergence_checks, **kwargs)\u001b[0m\n\u001b[0;32m    487\u001b[0m             \u001b[0m_log\u001b[0m\u001b[1;33m.\u001b[0m\u001b[0minfo\u001b[0m\u001b[1;33m(\u001b[0m\u001b[1;34m\"Sequential sampling ({} chains in 1 job)\"\u001b[0m\u001b[1;33m.\u001b[0m\u001b[0mformat\u001b[0m\u001b[1;33m(\u001b[0m\u001b[0mchains\u001b[0m\u001b[1;33m)\u001b[0m\u001b[1;33m)\u001b[0m\u001b[1;33m\u001b[0m\u001b[1;33m\u001b[0m\u001b[0m\n\u001b[0;32m    488\u001b[0m             \u001b[0m_print_step_hierarchy\u001b[0m\u001b[1;33m(\u001b[0m\u001b[0mstep\u001b[0m\u001b[1;33m)\u001b[0m\u001b[1;33m\u001b[0m\u001b[1;33m\u001b[0m\u001b[0m\n\u001b[1;32m--> 489\u001b[1;33m             \u001b[0mtrace\u001b[0m \u001b[1;33m=\u001b[0m \u001b[0m_sample_many\u001b[0m\u001b[1;33m(\u001b[0m\u001b[1;33m**\u001b[0m\u001b[0msample_args\u001b[0m\u001b[1;33m)\u001b[0m\u001b[1;33m\u001b[0m\u001b[1;33m\u001b[0m\u001b[0m\n\u001b[0m\u001b[0;32m    490\u001b[0m \u001b[1;33m\u001b[0m\u001b[0m\n\u001b[0;32m    491\u001b[0m     \u001b[0mdiscard\u001b[0m \u001b[1;33m=\u001b[0m \u001b[0mtune\u001b[0m \u001b[1;32mif\u001b[0m \u001b[0mdiscard_tuned_samples\u001b[0m \u001b[1;32melse\u001b[0m \u001b[1;36m0\u001b[0m\u001b[1;33m\u001b[0m\u001b[1;33m\u001b[0m\u001b[0m\n",
      "\u001b[1;32m~\\miniconda3\\lib\\site-packages\\pymc3\\sampling.py\u001b[0m in \u001b[0;36m_sample_many\u001b[1;34m(draws, chain, chains, start, random_seed, step, **kwargs)\u001b[0m\n\u001b[0;32m    531\u001b[0m     \u001b[0mtraces\u001b[0m \u001b[1;33m=\u001b[0m \u001b[1;33m[\u001b[0m\u001b[1;33m]\u001b[0m\u001b[1;33m\u001b[0m\u001b[1;33m\u001b[0m\u001b[0m\n\u001b[0;32m    532\u001b[0m     \u001b[1;32mfor\u001b[0m \u001b[0mi\u001b[0m \u001b[1;32min\u001b[0m \u001b[0mrange\u001b[0m\u001b[1;33m(\u001b[0m\u001b[0mchains\u001b[0m\u001b[1;33m)\u001b[0m\u001b[1;33m:\u001b[0m\u001b[1;33m\u001b[0m\u001b[1;33m\u001b[0m\u001b[0m\n\u001b[1;32m--> 533\u001b[1;33m         trace = _sample(\n\u001b[0m\u001b[0;32m    534\u001b[0m             \u001b[0mdraws\u001b[0m\u001b[1;33m=\u001b[0m\u001b[0mdraws\u001b[0m\u001b[1;33m,\u001b[0m\u001b[1;33m\u001b[0m\u001b[1;33m\u001b[0m\u001b[0m\n\u001b[0;32m    535\u001b[0m             \u001b[0mchain\u001b[0m\u001b[1;33m=\u001b[0m\u001b[0mchain\u001b[0m \u001b[1;33m+\u001b[0m \u001b[0mi\u001b[0m\u001b[1;33m,\u001b[0m\u001b[1;33m\u001b[0m\u001b[1;33m\u001b[0m\u001b[0m\n",
      "\u001b[1;32m~\\miniconda3\\lib\\site-packages\\pymc3\\sampling.py\u001b[0m in \u001b[0;36m_sample\u001b[1;34m(chain, progressbar, random_seed, start, draws, step, trace, tune, model, **kwargs)\u001b[0m\n\u001b[0;32m    603\u001b[0m     \u001b[1;32mtry\u001b[0m\u001b[1;33m:\u001b[0m\u001b[1;33m\u001b[0m\u001b[1;33m\u001b[0m\u001b[0m\n\u001b[0;32m    604\u001b[0m         \u001b[0mstrace\u001b[0m \u001b[1;33m=\u001b[0m \u001b[1;32mNone\u001b[0m\u001b[1;33m\u001b[0m\u001b[1;33m\u001b[0m\u001b[0m\n\u001b[1;32m--> 605\u001b[1;33m         \u001b[1;32mfor\u001b[0m \u001b[0mit\u001b[0m\u001b[1;33m,\u001b[0m \u001b[1;33m(\u001b[0m\u001b[0mstrace\u001b[0m\u001b[1;33m,\u001b[0m \u001b[0mdiverging\u001b[0m\u001b[1;33m)\u001b[0m \u001b[1;32min\u001b[0m \u001b[0menumerate\u001b[0m\u001b[1;33m(\u001b[0m\u001b[0msampling\u001b[0m\u001b[1;33m)\u001b[0m\u001b[1;33m:\u001b[0m\u001b[1;33m\u001b[0m\u001b[1;33m\u001b[0m\u001b[0m\n\u001b[0m\u001b[0;32m    606\u001b[0m             \u001b[1;32mif\u001b[0m \u001b[0mit\u001b[0m \u001b[1;33m>=\u001b[0m \u001b[0mskip_first\u001b[0m\u001b[1;33m:\u001b[0m\u001b[1;33m\u001b[0m\u001b[1;33m\u001b[0m\u001b[0m\n\u001b[0;32m    607\u001b[0m                 \u001b[0mtrace\u001b[0m \u001b[1;33m=\u001b[0m \u001b[0mMultiTrace\u001b[0m\u001b[1;33m(\u001b[0m\u001b[1;33m[\u001b[0m\u001b[0mstrace\u001b[0m\u001b[1;33m]\u001b[0m\u001b[1;33m)\u001b[0m\u001b[1;33m\u001b[0m\u001b[1;33m\u001b[0m\u001b[0m\n",
      "\u001b[1;32m~\\miniconda3\\lib\\site-packages\\tqdm\\std.py\u001b[0m in \u001b[0;36m__iter__\u001b[1;34m(self)\u001b[0m\n\u001b[0;32m   1169\u001b[0m \u001b[1;33m\u001b[0m\u001b[0m\n\u001b[0;32m   1170\u001b[0m         \u001b[1;32mtry\u001b[0m\u001b[1;33m:\u001b[0m\u001b[1;33m\u001b[0m\u001b[1;33m\u001b[0m\u001b[0m\n\u001b[1;32m-> 1171\u001b[1;33m             \u001b[1;32mfor\u001b[0m \u001b[0mobj\u001b[0m \u001b[1;32min\u001b[0m \u001b[0miterable\u001b[0m\u001b[1;33m:\u001b[0m\u001b[1;33m\u001b[0m\u001b[1;33m\u001b[0m\u001b[0m\n\u001b[0m\u001b[0;32m   1172\u001b[0m                 \u001b[1;32myield\u001b[0m \u001b[0mobj\u001b[0m\u001b[1;33m\u001b[0m\u001b[1;33m\u001b[0m\u001b[0m\n\u001b[0;32m   1173\u001b[0m                 \u001b[1;31m# Update and possibly print the progressbar.\u001b[0m\u001b[1;33m\u001b[0m\u001b[1;33m\u001b[0m\u001b[1;33m\u001b[0m\u001b[0m\n",
      "\u001b[1;32m~\\miniconda3\\lib\\site-packages\\pymc3\\sampling.py\u001b[0m in \u001b[0;36m_iter_sample\u001b[1;34m(draws, step, start, trace, chain, tune, model, random_seed)\u001b[0m\n\u001b[0;32m    698\u001b[0m                 \u001b[0mstep\u001b[0m \u001b[1;33m=\u001b[0m \u001b[0mstop_tuning\u001b[0m\u001b[1;33m(\u001b[0m\u001b[0mstep\u001b[0m\u001b[1;33m)\u001b[0m\u001b[1;33m\u001b[0m\u001b[1;33m\u001b[0m\u001b[0m\n\u001b[0;32m    699\u001b[0m             \u001b[1;32mif\u001b[0m \u001b[0mstep\u001b[0m\u001b[1;33m.\u001b[0m\u001b[0mgenerates_stats\u001b[0m\u001b[1;33m:\u001b[0m\u001b[1;33m\u001b[0m\u001b[1;33m\u001b[0m\u001b[0m\n\u001b[1;32m--> 700\u001b[1;33m                 \u001b[0mpoint\u001b[0m\u001b[1;33m,\u001b[0m \u001b[0mstats\u001b[0m \u001b[1;33m=\u001b[0m \u001b[0mstep\u001b[0m\u001b[1;33m.\u001b[0m\u001b[0mstep\u001b[0m\u001b[1;33m(\u001b[0m\u001b[0mpoint\u001b[0m\u001b[1;33m)\u001b[0m\u001b[1;33m\u001b[0m\u001b[1;33m\u001b[0m\u001b[0m\n\u001b[0m\u001b[0;32m    701\u001b[0m                 \u001b[1;32mif\u001b[0m \u001b[0mstrace\u001b[0m\u001b[1;33m.\u001b[0m\u001b[0msupports_sampler_stats\u001b[0m\u001b[1;33m:\u001b[0m\u001b[1;33m\u001b[0m\u001b[1;33m\u001b[0m\u001b[0m\n\u001b[0;32m    702\u001b[0m                     \u001b[0mstrace\u001b[0m\u001b[1;33m.\u001b[0m\u001b[0mrecord\u001b[0m\u001b[1;33m(\u001b[0m\u001b[0mpoint\u001b[0m\u001b[1;33m,\u001b[0m \u001b[0mstats\u001b[0m\u001b[1;33m)\u001b[0m\u001b[1;33m\u001b[0m\u001b[1;33m\u001b[0m\u001b[0m\n",
      "\u001b[1;32m~\\miniconda3\\lib\\site-packages\\pymc3\\step_methods\\arraystep.py\u001b[0m in \u001b[0;36mstep\u001b[1;34m(self, point)\u001b[0m\n\u001b[0;32m    245\u001b[0m \u001b[1;33m\u001b[0m\u001b[0m\n\u001b[0;32m    246\u001b[0m         \u001b[1;32mif\u001b[0m \u001b[0mself\u001b[0m\u001b[1;33m.\u001b[0m\u001b[0mgenerates_stats\u001b[0m\u001b[1;33m:\u001b[0m\u001b[1;33m\u001b[0m\u001b[1;33m\u001b[0m\u001b[0m\n\u001b[1;32m--> 247\u001b[1;33m             \u001b[0mapoint\u001b[0m\u001b[1;33m,\u001b[0m \u001b[0mstats\u001b[0m \u001b[1;33m=\u001b[0m \u001b[0mself\u001b[0m\u001b[1;33m.\u001b[0m\u001b[0mastep\u001b[0m\u001b[1;33m(\u001b[0m\u001b[0marray\u001b[0m\u001b[1;33m)\u001b[0m\u001b[1;33m\u001b[0m\u001b[1;33m\u001b[0m\u001b[0m\n\u001b[0m\u001b[0;32m    248\u001b[0m             \u001b[0mpoint\u001b[0m \u001b[1;33m=\u001b[0m \u001b[0mself\u001b[0m\u001b[1;33m.\u001b[0m\u001b[0m_logp_dlogp_func\u001b[0m\u001b[1;33m.\u001b[0m\u001b[0marray_to_full_dict\u001b[0m\u001b[1;33m(\u001b[0m\u001b[0mapoint\u001b[0m\u001b[1;33m)\u001b[0m\u001b[1;33m\u001b[0m\u001b[1;33m\u001b[0m\u001b[0m\n\u001b[0;32m    249\u001b[0m             \u001b[1;32mreturn\u001b[0m \u001b[0mpoint\u001b[0m\u001b[1;33m,\u001b[0m \u001b[0mstats\u001b[0m\u001b[1;33m\u001b[0m\u001b[1;33m\u001b[0m\u001b[0m\n",
      "\u001b[1;32m~\\miniconda3\\lib\\site-packages\\pymc3\\step_methods\\hmc\\base_hmc.py\u001b[0m in \u001b[0;36mastep\u001b[1;34m(self, q0)\u001b[0m\n\u001b[0;32m    142\u001b[0m             )\n\u001b[0;32m    143\u001b[0m             \u001b[0mself\u001b[0m\u001b[1;33m.\u001b[0m\u001b[0m_warnings\u001b[0m\u001b[1;33m.\u001b[0m\u001b[0mappend\u001b[0m\u001b[1;33m(\u001b[0m\u001b[0mwarning\u001b[0m\u001b[1;33m)\u001b[0m\u001b[1;33m\u001b[0m\u001b[1;33m\u001b[0m\u001b[0m\n\u001b[1;32m--> 144\u001b[1;33m             \u001b[1;32mraise\u001b[0m \u001b[0mSamplingError\u001b[0m\u001b[1;33m(\u001b[0m\u001b[1;34m\"Bad initial energy\"\u001b[0m\u001b[1;33m)\u001b[0m\u001b[1;33m\u001b[0m\u001b[1;33m\u001b[0m\u001b[0m\n\u001b[0m\u001b[0;32m    145\u001b[0m \u001b[1;33m\u001b[0m\u001b[0m\n\u001b[0;32m    146\u001b[0m         \u001b[0madapt_step\u001b[0m \u001b[1;33m=\u001b[0m \u001b[0mself\u001b[0m\u001b[1;33m.\u001b[0m\u001b[0mtune\u001b[0m \u001b[1;32mand\u001b[0m \u001b[0mself\u001b[0m\u001b[1;33m.\u001b[0m\u001b[0madapt_step_size\u001b[0m\u001b[1;33m\u001b[0m\u001b[1;33m\u001b[0m\u001b[0m\n",
      "\u001b[1;31mSamplingError\u001b[0m: Bad initial energy"
     ]
    }
   ],
   "source": [
    "# sampling: uncomment\n",
    "with model_h1:\n",
    "    trace_h1=pm.sample(10000,chains=4, model=model_h1, cores=1, step=pm.NUTS())\n",
    "    # storing trace, since I am not waiting that long again\n",
    "    folderName =\"h1.trace\"\n",
    "    pm.save_trace(trace_h1, folderName, overwrite=True)\n",
    "    trace_h1 = pm.load_trace(folderName, model=model_h1)"
   ]
  },
  {
   "cell_type": "code",
   "execution_count": 24,
   "metadata": {},
   "outputs": [
    {
     "data": {
      "text/plain": [
       "μ_noData              -5.52\n",
       "σ_noData_interval__   -1.39\n",
       "ν_minus_one_log__     -1.06\n",
       "obs_coala              -inf\n",
       "Name: Log-probability of test_point, dtype: float64"
      ]
     },
     "execution_count": 24,
     "metadata": {},
     "output_type": "execute_result"
    }
   ],
   "source": [
    "model_h1.check_test_point()"
   ]
  },
  {
   "cell_type": "code",
   "execution_count": 25,
   "metadata": {},
   "outputs": [
    {
     "name": "stderr",
     "output_type": "stream",
     "text": [
      "C:\\Users\\Stha\\miniconda3\\lib\\site-packages\\arviz\\data\\io_pymc3.py:87: FutureWarning: Using `from_pymc3` without the model will be deprecated in a future release. Not using the model will return less accurate and less useful results. Make sure you use the model argument or call from_pymc3 within a model context.\n",
      "  warnings.warn(\n"
     ]
    },
    {
     "data": {
      "text/html": [
       "<div>\n",
       "<style scoped>\n",
       "    .dataframe tbody tr th:only-of-type {\n",
       "        vertical-align: middle;\n",
       "    }\n",
       "\n",
       "    .dataframe tbody tr th {\n",
       "        vertical-align: top;\n",
       "    }\n",
       "\n",
       "    .dataframe thead th {\n",
       "        text-align: right;\n",
       "    }\n",
       "</style>\n",
       "<table border=\"1\" class=\"dataframe\">\n",
       "  <thead>\n",
       "    <tr style=\"text-align: right;\">\n",
       "      <th></th>\n",
       "      <th>mean</th>\n",
       "      <th>sd</th>\n",
       "      <th>hdi_3%</th>\n",
       "      <th>hdi_97%</th>\n",
       "      <th>mcse_mean</th>\n",
       "      <th>mcse_sd</th>\n",
       "      <th>ess_mean</th>\n",
       "      <th>ess_sd</th>\n",
       "      <th>ess_bulk</th>\n",
       "      <th>ess_tail</th>\n",
       "      <th>r_hat</th>\n",
       "    </tr>\n",
       "  </thead>\n",
       "  <tbody>\n",
       "    <tr>\n",
       "      <th>μ_noData[0]</th>\n",
       "      <td>1.000</td>\n",
       "      <td>0.0</td>\n",
       "      <td>1.000</td>\n",
       "      <td>1.000</td>\n",
       "      <td>0.0</td>\n",
       "      <td>0.0</td>\n",
       "      <td>40000.0</td>\n",
       "      <td>40000.0</td>\n",
       "      <td>40000.0</td>\n",
       "      <td>40000.0</td>\n",
       "      <td>NaN</td>\n",
       "    </tr>\n",
       "    <tr>\n",
       "      <th>μ[0]</th>\n",
       "      <td>1.000</td>\n",
       "      <td>0.0</td>\n",
       "      <td>1.000</td>\n",
       "      <td>1.000</td>\n",
       "      <td>0.0</td>\n",
       "      <td>0.0</td>\n",
       "      <td>40000.0</td>\n",
       "      <td>40000.0</td>\n",
       "      <td>40000.0</td>\n",
       "      <td>40000.0</td>\n",
       "      <td>NaN</td>\n",
       "    </tr>\n",
       "    <tr>\n",
       "      <th>σ_noData[0]</th>\n",
       "      <td>500.000</td>\n",
       "      <td>0.0</td>\n",
       "      <td>500.000</td>\n",
       "      <td>500.000</td>\n",
       "      <td>0.0</td>\n",
       "      <td>0.0</td>\n",
       "      <td>40000.0</td>\n",
       "      <td>40000.0</td>\n",
       "      <td>40000.0</td>\n",
       "      <td>40000.0</td>\n",
       "      <td>NaN</td>\n",
       "    </tr>\n",
       "    <tr>\n",
       "      <th>σ[0]</th>\n",
       "      <td>0.000</td>\n",
       "      <td>0.0</td>\n",
       "      <td>0.000</td>\n",
       "      <td>0.000</td>\n",
       "      <td>0.0</td>\n",
       "      <td>0.0</td>\n",
       "      <td>40000.0</td>\n",
       "      <td>40000.0</td>\n",
       "      <td>40000.0</td>\n",
       "      <td>40000.0</td>\n",
       "      <td>NaN</td>\n",
       "    </tr>\n",
       "    <tr>\n",
       "      <th>ν_minus_one</th>\n",
       "      <td>20.101</td>\n",
       "      <td>0.0</td>\n",
       "      <td>20.101</td>\n",
       "      <td>20.101</td>\n",
       "      <td>0.0</td>\n",
       "      <td>0.0</td>\n",
       "      <td>40000.0</td>\n",
       "      <td>40000.0</td>\n",
       "      <td>40000.0</td>\n",
       "      <td>40000.0</td>\n",
       "      <td>NaN</td>\n",
       "    </tr>\n",
       "    <tr>\n",
       "      <th>ν</th>\n",
       "      <td>21.101</td>\n",
       "      <td>0.0</td>\n",
       "      <td>21.101</td>\n",
       "      <td>21.101</td>\n",
       "      <td>0.0</td>\n",
       "      <td>0.0</td>\n",
       "      <td>40000.0</td>\n",
       "      <td>40000.0</td>\n",
       "      <td>40000.0</td>\n",
       "      <td>40000.0</td>\n",
       "      <td>NaN</td>\n",
       "    </tr>\n",
       "    <tr>\n",
       "      <th>log10_ν</th>\n",
       "      <td>1.324</td>\n",
       "      <td>0.0</td>\n",
       "      <td>1.324</td>\n",
       "      <td>1.324</td>\n",
       "      <td>0.0</td>\n",
       "      <td>0.0</td>\n",
       "      <td>40000.0</td>\n",
       "      <td>40000.0</td>\n",
       "      <td>40000.0</td>\n",
       "      <td>40000.0</td>\n",
       "      <td>NaN</td>\n",
       "    </tr>\n",
       "    <tr>\n",
       "      <th>eff_size[0]</th>\n",
       "      <td>-inf</td>\n",
       "      <td>NaN</td>\n",
       "      <td>-inf</td>\n",
       "      <td>-inf</td>\n",
       "      <td>NaN</td>\n",
       "      <td>NaN</td>\n",
       "      <td>NaN</td>\n",
       "      <td>NaN</td>\n",
       "      <td>40000.0</td>\n",
       "      <td>40000.0</td>\n",
       "      <td>NaN</td>\n",
       "    </tr>\n",
       "  </tbody>\n",
       "</table>\n",
       "</div>"
      ],
      "text/plain": [
       "                mean   sd   hdi_3%  hdi_97%  mcse_mean  mcse_sd  ess_mean  \\\n",
       "μ_noData[0]    1.000  0.0    1.000    1.000        0.0      0.0   40000.0   \n",
       "μ[0]           1.000  0.0    1.000    1.000        0.0      0.0   40000.0   \n",
       "σ_noData[0]  500.000  0.0  500.000  500.000        0.0      0.0   40000.0   \n",
       "σ[0]           0.000  0.0    0.000    0.000        0.0      0.0   40000.0   \n",
       "ν_minus_one   20.101  0.0   20.101   20.101        0.0      0.0   40000.0   \n",
       "ν             21.101  0.0   21.101   21.101        0.0      0.0   40000.0   \n",
       "log10_ν        1.324  0.0    1.324    1.324        0.0      0.0   40000.0   \n",
       "eff_size[0]     -inf  NaN     -inf     -inf        NaN      NaN       NaN   \n",
       "\n",
       "              ess_sd  ess_bulk  ess_tail  r_hat  \n",
       "μ_noData[0]  40000.0   40000.0   40000.0    NaN  \n",
       "μ[0]         40000.0   40000.0   40000.0    NaN  \n",
       "σ_noData[0]  40000.0   40000.0   40000.0    NaN  \n",
       "σ[0]         40000.0   40000.0   40000.0    NaN  \n",
       "ν_minus_one  40000.0   40000.0   40000.0    NaN  \n",
       "ν            40000.0   40000.0   40000.0    NaN  \n",
       "log10_ν      40000.0   40000.0   40000.0    NaN  \n",
       "eff_size[0]      NaN   40000.0   40000.0    NaN  "
      ]
     },
     "execution_count": 25,
     "metadata": {},
     "output_type": "execute_result"
    }
   ],
   "source": [
    "az.summary(trace_h1)"
   ]
  },
  {
   "cell_type": "code",
   "execution_count": 32,
   "metadata": {},
   "outputs": [
    {
     "data": {
      "image/png": "[encoded data removed]",
      "text/plain": [
       "<Figure size 720x360 with 3 Axes>"
      ]
     },
     "metadata": {
      "needs_background": "light"
     },
     "output_type": "display_data"
    }
   ],
   "source": [
    "trace_h1_inferencedata = az.from_pymc3(trace_h1,model=model_h1)\n",
    "pm.plot_posterior(trace_h1_inferencedata, \n",
    "                  var_names=['log10_ν', 'μ', 'σ_noData'], \n",
    "                  kind='hist',\n",
    "                  figsize=(10,5));"
   ]
  },
  {
   "cell_type": "code",
   "execution_count": null,
   "metadata": {},
   "outputs": [],
   "source": []
  },
  {
   "cell_type": "code",
   "execution_count": null,
   "metadata": {},
   "outputs": [],
   "source": [
    "print(az.__version__)\n",
    "print(pm.__version__)\n",
    "print(theano.__version__)"
   ]
  },
  {
   "cell_type": "code",
   "execution_count": 18,
   "metadata": {},
   "outputs": [
    {
     "name": "stdout",
     "output_type": "stream",
     "text": [
      "<class 'pandas.core.frame.DataFrame'>\n",
      "Int64Index: 345 entries, 0 to 379\n",
      "Data columns (total 9 columns):\n",
      " #   Column     Non-Null Count  Dtype \n",
      "---  ------     --------------  ----- \n",
      " 0   id         345 non-null    int64 \n",
      " 1   Community  345 non-null    object\n",
      " 2   V27        345 non-null    int64 \n",
      " 3   V28        345 non-null    int64 \n",
      " 4   V29        345 non-null    int64 \n",
      " 5   V30        345 non-null    int64 \n",
      " 6   V31        345 non-null    int64 \n",
      " 7   V32        345 non-null    int64 \n",
      " 8   V33        345 non-null    int64 \n",
      "dtypes: int64(8), object(1)\n",
      "memory usage: 27.0+ KB\n"
     ]
    }
   ],
   "source": [
    "df.info()"
   ]
  },
  {
   "cell_type": "code",
   "execution_count": null,
   "metadata": {},
   "outputs": [],
   "source": []
  },
  {
   "cell_type": "code",
   "execution_count": null,
   "metadata": {},
   "outputs": [],
   "source": []
  },
  {
   "cell_type": "code",
   "execution_count": null,
   "metadata": {},
   "outputs": [],
   "source": []
  },
  {
   "cell_type": "code",
   "execution_count": null,
   "metadata": {},
   "outputs": [],
   "source": []
  },
  {
   "cell_type": "code",
   "execution_count": null,
   "metadata": {},
   "outputs": [],
   "source": []
  },
  {
   "cell_type": "code",
   "execution_count": null,
   "metadata": {},
   "outputs": [],
   "source": []
  },
  {
   "cell_type": "code",
   "execution_count": null,
   "metadata": {},
   "outputs": [],
   "source": []
  },
  {
   "cell_type": "code",
   "execution_count": null,
   "metadata": {},
   "outputs": [],
   "source": []
  },
  {
   "cell_type": "code",
   "execution_count": null,
   "metadata": {},
   "outputs": [],
   "source": []
  }
 ],
 "metadata": {
  "colab": {
   "collapsed_sections": [],
   "name": "tse_codelab.ipynb",
   "provenance": [],
   "toc_visible": true
  },
  "kernelspec": {
   "display_name": "Python 3",
   "language": "python",
   "name": "python3"
  },
  "language_info": {
   "codemirror_mode": {
    "name": "ipython",
    "version": 3
   },
   "file_extension": ".py",
   "mimetype": "text/x-python",
   "name": "python",
   "nbconvert_exporter": "python",
   "pygments_lexer": "ipython3",
   "version": "3.8.8"
  },
  "name": "tse_codelab.ipynb"
 },
 "nbformat": 4,
 "nbformat_minor": 4
}
