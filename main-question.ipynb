{
 "cells": [
  {
   "cell_type": "markdown",
   "metadata": {
    "colab_type": "text",
    "id": "D5odBxp0gTjA"
   },
   "source": [
    "# Pull-Request Governance Models in Open Source Communities\n",
    "*Probabilistic Programming 2021 Exam task by Raul Pardo and Andrzej Wąsowski*"
   ]
  },
  {
   "cell_type": "markdown",
   "metadata": {
    "colab_type": "text",
    "id": "D5odBxp0gTjA"
   },
   "source": [
    "(This exam task is based on an unpublished work by Adam Alami, Raul Pardo, Marisa Leavitt Cohn, and Andrzej Wasowski.  Some early background for the study is published in: Alami, Adam, Marisa Leavitt Cohn, and Andrzej Wasowski. *How Do FOSS Communities Decide to Accept Pull Requests?* (EASE'20). However, we do not expect you to read this study to solve the task.  The background study contains **no quantitative data**. This is also why we do not include it with this exam.  The reference is provided purely for completeness, if you were interested in the subject matter itself, not in the exam.)\n",
    "\n",
    "In this work, we study how different Free & Open-Source Software (FOSS) communities handle [Pull Requests](https://help.github.com/en/github/collaborating-with-issues-and-pull-requests/about-pull-requests) (PRs). It is not very important to know what is a PR to perform this task, but we suspect you know this anyways.  The working hypothesis is that there are three dominant models in which projects handle PRs.  We name this models as _protective_, _equitable_ and _lenient_.  \n",
    "\n",
    "We have prepared a survey on PR handling and collected responses from members of the following FOSS communities: FOSSASIA, Odoo, Linux Kernel, Coala, ROS, Plone, ReactJS, NodeJS, OpenGenus, Mozilla, OpenSUSE, jQuery, and Apache."
   ]
  },
  {
   "cell_type": "markdown",
   "metadata": {
    "colab_type": "text",
    "id": "z3UlxRTM0Ihi"
   },
   "source": [
    "## The Data in the File\n",
    "\n",
    "In total, there were N=380 responses. The responses are stored in the file [pseudonymized-data.csv](pseudonymized-data.csv). Click the link to get an idea about the content and the structure of the file. It contains only answers to 7 quantitative questions relevant for this analysis:\n",
    "\n",
    "**V27.** *In general I  say no to most pull requests (PR)/patches. The contributor has to be persistent and prove that the PR/patch is worth evaluating.*\n",
    "\n",
    "**V28.** *I don't consider a pull request/patch, unless I trust the contributor.*\n",
    "\n",
    "**V29.** *I don't consider a pull request/patch, unless the contributor is reliable.*\n",
    "\n",
    "**V30.** *I don't consider a pull request/patch, unless I have a strong relationship with the contributor.*\n",
    "\n",
    "**V31.** *I assess every pull request/patch in the same manner irrespective of the contributor.*\n",
    "\n",
    "**V32.** *I assess pull requests/patches purely on technical grounds.*\n",
    "\n",
    "**V33.** *I never say no to a pull request/patch. If the quality of the PR/patch is not mergeable, then I mentor the contributor to elevate his/her PR/patch to a mergeable state.*\n",
    "\n",
    "The participants in the survey selected a mark from the Likert scale to answer each question: \n",
    "\n",
    "1. Strongly Agree, 2. Agree, 3. Neutral, 4. Disagree, 5. Strongly Diasgree.  \n",
    "\n",
    "In the CSV file, -1 in the community file means 'other' (so none of the listed above), and -1 in any other column means that the respective question has not been answered.  Since our tasks in the exam concern selected communities and questions, the rows with values -1 need to be filtered out in the data preparation phase."
   ]
  },
  {
   "cell_type": "markdown",
   "metadata": {
    "colab_type": "text",
    "id": "r0P-G8QF0Tx1"
   },
   "source": [
    "## Research Scope\n",
    "\n",
    "We are interested in comparing how _protective_ and _lenient_ the different communities are. Below we precisely describe the criteria to classify a community within a category.\n",
    "\n",
    "\n",
    "**Protective.** A community is protective when the response from this community is positive to question V29:\n",
    "\n",
    "                                                                                      \n",
    "    V29: I don't consider a pull request/patch, unless the contributor is reliable.                      \n",
    "\n",
    "\n",
    "**Equitable.** A community is equitable when its response is positive to the following question:\n",
    "\n",
    "    V31: I assess every pull request/patch in the same manner irrespective of the contributor.           \n",
    "\n",
    "    \n",
    "**Lenient.** A community is lenient when its response to question V33 is positive:\n",
    "\n",
    "    V33: I never say no to a pull request/patch. If the quality of the PR/patch is not mergeable, then I mentor the contributor to elevate his/her PR/patch to a mergeable state.\n",
    "\n",
    "We consider that an answer to a question is _positive_   if its value is less than equal to three.  It is negative if its value is greater or equal than three.  This makes more sense if we consider average answers from the entire community.  Then the value 3 is a boundary point between the positive and negative answers.\n"
   ]
  },
  {
   "cell_type": "markdown",
   "metadata": {
    "colab_type": "text",
    "id": "eYFLIlhUwb78"
   },
   "source": [
    "## The Goals of the Analysis (The Exam Task)\n",
    "\n",
    "In this exam, we take the above definitions for granted.  We want to use them to estimate the models for various communities. Your task is to test the following hypotheses using Bayesian Data Analysis:\n",
    "\n",
    "* **H1:** The Coala Community is more lenient than the Linux Kernel Community. \n",
    "* **H2:** All communities show either a protective or equitable style of governance for pull requests (so for each community answers to V29 and V31 are different)"
   ]
  },
  {
   "cell_type": "markdown",
   "metadata": {
    "colab_type": "text",
    "id": "H5pXYG4kf-MQ"
   },
   "source": [
    "Your task is to use Bayesian Inference and Decision Making to decide whether these hypotheses hold, or possibly reject them. This includes:\n",
    "\n",
    "* Loading and restructuring the data as needed.\n",
    "\n",
    "* Designing Bayesian models and using Bayesian inference along with the corresponding decisions methods to test the above hypotheses in pyMC3.\n",
    "\n",
    "* Explaining your model idea in English, possibly using a figure, and showing the Python code.\n",
    "\n",
    "* Checking and reflecting (in writing) on the quality of the sampling process, considering warnings from the tool, sampling summary statistics, trace plots, and autocorrelation plots. Comment whether the quality is good, and whether you had to make any adjustments during the modeling.\n",
    "  \n",
    "\n",
    "You should hand in a zip file with a Jupyter notebook and the data file (so that we can run it), and a **PDF file rendering of the jupyter notebook**, so that your work can be assessed just by reading this file. The PDF file should include all the plots and results. Make sure the notebook is actually a **report** readable to the examiners, especially to the censor, who has not been following the course. The report should contain a brief introduction, an efficient explanation of how data is loaded and cleaned, an analysis of the model design, a discussion of sampling quality, the posterior plots, and decision outcome for each hypothesis. . It should end with an overall conclusion.  \n",
    "\n",
    "**After the conclusion write a few sentences on the division of work and responsibility if you prepared the solution in a group.**\n",
    "\n",
    "The hand-in is via learnIT in 2-3 person groups. Good luck!"
   ]
  },
  {
   "cell_type": "markdown",
   "metadata": {},
   "source": [
    "# Final Notes\n",
    "\n",
    "* You should work in 2-3 person groups. It is OK to use all written and online material, but not to discuss the exam problem with anybody, except with the team members, before the submission.\n",
    "* Make sure you have a group for hand-in way before the deadline (so that your group is correctly registered). Make a test submission if you had not submitted with this group yet. You can re-upload later until the deadline.\n",
    "* Write a short paragraph in the end of the notebook on how responsibility is dvided for the report\n",
    "* Treat is like a project, with unclarities, open ends\n",
    "* No single correct answer\n",
    "* What matters: how you make choices, how you argue for them, how you make inferences, and logical decisions.\n",
    "* Try to use this as an opportunity to learn\n",
    "* The problem in the exam is slightly different from everything in the course, but very close\n",
    "\n",
    "# The Oral Exam\n",
    "\n",
    "In the oral exam, each of you is questioned separately. Please prepare a presentation of an executive summary of your report lasting 6-7 minutes, and then we will talk about it for ca. 15 minutes.  In your presentation try to summarize some of the following: the research question, the conclusions, the weaknesses of the analysis, the problems encountered, the learnings, or other interesting reflections (this list is specifically too long, so not all of your presentations will be identical).\n",
    "\n",
    "We will publish the schedule for oral exams a day or two after the submission deadline.  The plan is to run all oral exams on June 7."
   ]
  },
  {
   "cell_type": "code",
   "execution_count": null,
   "metadata": {},
   "outputs": [],
   "source": []
  }
 ],
 "metadata": {
  "colab": {
   "collapsed_sections": [],
   "name": "tse_codelab.ipynb",
   "provenance": [],
   "toc_visible": true
  },
  "kernelspec": {
   "display_name": "Python 3",
   "language": "python",
   "name": "python3"
  },
  "language_info": {
   "codemirror_mode": {
    "name": "ipython",
    "version": 3
   },
   "file_extension": ".py",
   "mimetype": "text/x-python",
   "name": "python",
   "nbconvert_exporter": "python",
   "pygments_lexer": "ipython3",
   "version": "3.8.5"
  },
  "name": "tse_codelab.ipynb"
 },
 "nbformat": 4,
 "nbformat_minor": 4
}
